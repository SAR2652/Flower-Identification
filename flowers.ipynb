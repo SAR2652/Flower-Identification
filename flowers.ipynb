{
 "cells": [
  {
   "cell_type": "code",
   "execution_count": null,
   "metadata": {},
   "outputs": [],
   "source": [
    "#import the necessary modules\n",
    "import os\n",
    "import numpy as np\n",
    "import pandas as pd\n",
    "from subprocess import check_output"
   ]
  },
  {
   "cell_type": "code",
   "execution_count": null,
   "metadata": {},
   "outputs": [],
   "source": [
    "#specify the directory and filetype\n",
    "directory = '/home/sarvesh/ML_Github/flowers/'\n",
    "filetype = '/*.jpg'\n",
    "\n",
    "#declare a directory object\n",
    "path = os.path.dirname(directory)"
   ]
  },
  {
   "cell_type": "code",
   "execution_count": null,
   "metadata": {},
   "outputs": [],
   "source": [
    "#use check_output method of the subprocess package to check the folders\n",
    "folders = list(check_output([\"ls\", path]).split('\\n'))\n",
    "\n",
    "#remove any unnecessary files\n",
    "folders.remove('create_flowers_dataset.ipynb')\n",
    "folders.remove('')"
   ]
  },
  {
   "cell_type": "code",
   "execution_count": null,
   "metadata": {},
   "outputs": [],
   "source": [
    "#create two empty lists, one for images and the other for flower labels \n",
    "image_list = []\n",
    "label_list = []\n",
    "for folder in folders:\n",
    "    images = [x for x in os.listdir(directory + folder + '/') if x.endswith(filetype[2:])]\n",
    "    image_list.append(images)\n",
    "    \n",
    "    #assign corresponding flower name as label for images\n",
    "    labels = [folder] * len(images)\n",
    "    label_list.append(labels)\n",
    "    \n",
    "#flatten both the lists\n",
    "image_list = sum(image_list, [])\n",
    "label_list = sum(label_list, [])"
   ]
  },
  {
   "cell_type": "code",
   "execution_count": null,
   "metadata": {},
   "outputs": [],
   "source": [
    "#The sorting approach cannot be followed before because :\n",
    "#When images are sorted lexicographically, image name with least character is placed first\n",
    "#However when images are sorted by system, the image name with lesser number of characters goes first\n",
    "#sort labels w.r.t lexicographic order of images\n",
    "#label_list = [x for _, x in sorted(zip(image_list, label_list))]\n",
    "\n",
    "#sort the image_list finally\n",
    "#image_list = sorted(image_list)"
   ]
  },
  {
   "cell_type": "code",
   "execution_count": null,
   "metadata": {},
   "outputs": [],
   "source": [
    "#combine both resulting numpy arrays\n",
    "df = pd.DataFrame(data = [image_list, label_list]).T\n",
    "df.columns = ['Image', 'Flower']\n",
    "df.head()"
   ]
  },
  {
   "cell_type": "code",
   "execution_count": null,
   "metadata": {},
   "outputs": [],
   "source": [
    "#create a csv file containing the above data\n",
    "df.to_csv('flowers.csv')"
   ]
  },
  {
   "cell_type": "code",
   "execution_count": null,
   "metadata": {},
   "outputs": [],
   "source": [
    "#import the necessary modules for image processing\n",
    "import cv2"
   ]
  },
  {
   "cell_type": "code",
   "execution_count": null,
   "metadata": {},
   "outputs": [],
   "source": [
    "for folder in folders:  "
   ]
  }
 ],
 "metadata": {
  "kernelspec": {
   "display_name": "Python 3",
   "language": "python",
   "name": "python3"
  },
  "language_info": {
   "codemirror_mode": {
    "name": "ipython",
    "version": 2
   },
   "file_extension": ".py",
   "mimetype": "text/x-python",
   "name": "python",
   "nbconvert_exporter": "python",
   "pygments_lexer": "ipython2",
   "version": "2.7.15rc1"
  }
 },
 "nbformat": 4,
 "nbformat_minor": 2
}
