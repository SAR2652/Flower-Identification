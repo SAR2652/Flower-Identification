{
 "cells": [
  {
   "cell_type": "code",
   "execution_count": 1,
   "metadata": {},
   "outputs": [],
   "source": [
    "#import the necessary modules\n",
    "import os\n",
    "import numpy as np\n",
    "import pandas as pd\n",
    "import random\n",
    "pd.set_option('display.max_rows', 5000)\n",
    "from subprocess import check_output"
   ]
  },
  {
   "cell_type": "code",
   "execution_count": 2,
   "metadata": {},
   "outputs": [],
   "source": [
    "#specify the directory and filetype\n",
    "directory = '/home/sarvesh/ML_Github/flowers/'\n",
    "filetype = '/*.jpg'\n",
    "\n",
    "#declare a directory object\n",
    "path = os.path.dirname(directory)"
   ]
  },
  {
   "cell_type": "code",
   "execution_count": 3,
   "metadata": {},
   "outputs": [
    {
     "data": {
      "text/plain": [
       "['daisy', 'dandelion', 'rose', 'sunflower', 'tulip']"
      ]
     },
     "execution_count": 3,
     "metadata": {},
     "output_type": "execute_result"
    }
   ],
   "source": [
    "#use check_output method of the subprocess package to check the folders\n",
    "folders = list(check_output([\"ls\", path]).split('\\n'))\n",
    "\n",
    "#remove any unnecessary files\n",
    "folders.remove('flowers.ipynb')\n",
    "folders.remove('check_device.ipynb')\n",
    "folders.remove('')\n",
    "folders"
   ]
  },
  {
   "cell_type": "code",
   "execution_count": 4,
   "metadata": {},
   "outputs": [],
   "source": [
    "#create two empty lists, one for images and the other for flower labels \n",
    "image_list = []\n",
    "label_list = []\n",
    "for folder in folders:\n",
    "    images = [x for x in os.listdir(directory + folder + '/') if x.endswith(filetype[2:])]\n",
    "    image_list.append(images)\n",
    "    \n",
    "    #assign corresponding flower name as label for images\n",
    "    labels = [folder] * len(images)\n",
    "    label_list.append(labels)\n",
    "    \n",
    "#flatten both the lists\n",
    "image_list = sum(image_list, [])\n",
    "label_list = sum(label_list, [])"
   ]
  },
  {
   "cell_type": "code",
   "execution_count": 5,
   "metadata": {},
   "outputs": [],
   "source": [
    "#The sorting approach cannot be followed before because :\n",
    "#When images are sorted lexicographically, image name with least character is placed first\n",
    "#However when images are sorted by system, the image name with lesser number of characters goes first\n",
    "#sort labels w.r.t lexicographic order of images\n",
    "#label_list = [x for _, x in sorted(zip(image_list, label_list))]\n",
    "\n",
    "#sort the image_list finally\n",
    "#image_list = sorted(image_list)"
   ]
  },
  {
   "cell_type": "code",
   "execution_count": 6,
   "metadata": {},
   "outputs": [
    {
     "data": {
      "text/html": [
       "<div>\n",
       "<style scoped>\n",
       "    .dataframe tbody tr th:only-of-type {\n",
       "        vertical-align: middle;\n",
       "    }\n",
       "\n",
       "    .dataframe tbody tr th {\n",
       "        vertical-align: top;\n",
       "    }\n",
       "\n",
       "    .dataframe thead th {\n",
       "        text-align: right;\n",
       "    }\n",
       "</style>\n",
       "<table border=\"1\" class=\"dataframe\">\n",
       "  <thead>\n",
       "    <tr style=\"text-align: right;\">\n",
       "      <th></th>\n",
       "      <th>Image</th>\n",
       "      <th>Flower</th>\n",
       "    </tr>\n",
       "  </thead>\n",
       "  <tbody>\n",
       "    <tr>\n",
       "      <th>0</th>\n",
       "      <td>16819071290_471d99e166_m.jpg</td>\n",
       "      <td>daisy</td>\n",
       "    </tr>\n",
       "    <tr>\n",
       "      <th>1</th>\n",
       "      <td>3456403987_5bd5fa6ece_n.jpg</td>\n",
       "      <td>daisy</td>\n",
       "    </tr>\n",
       "    <tr>\n",
       "      <th>2</th>\n",
       "      <td>14350958832_29bdd3a254.jpg</td>\n",
       "      <td>daisy</td>\n",
       "    </tr>\n",
       "    <tr>\n",
       "      <th>3</th>\n",
       "      <td>8882282142_9be2524d38_m.jpg</td>\n",
       "      <td>daisy</td>\n",
       "    </tr>\n",
       "    <tr>\n",
       "      <th>4</th>\n",
       "      <td>34670512115_af22cce24d_n.jpg</td>\n",
       "      <td>daisy</td>\n",
       "    </tr>\n",
       "  </tbody>\n",
       "</table>\n",
       "</div>"
      ],
      "text/plain": [
       "                          Image Flower\n",
       "0  16819071290_471d99e166_m.jpg  daisy\n",
       "1   3456403987_5bd5fa6ece_n.jpg  daisy\n",
       "2    14350958832_29bdd3a254.jpg  daisy\n",
       "3   8882282142_9be2524d38_m.jpg  daisy\n",
       "4  34670512115_af22cce24d_n.jpg  daisy"
      ]
     },
     "execution_count": 6,
     "metadata": {},
     "output_type": "execute_result"
    }
   ],
   "source": [
    "#combine both resulting numpy arrays\n",
    "df = pd.DataFrame(data = [image_list, label_list]).T\n",
    "df.columns = ['Image', 'Flower']\n",
    "df.head()"
   ]
  },
  {
   "cell_type": "code",
   "execution_count": 7,
   "metadata": {},
   "outputs": [],
   "source": [
    "#create a csv file containing the above data\n",
    "#df.to_csv('flowers.csv')"
   ]
  },
  {
   "cell_type": "code",
   "execution_count": 8,
   "metadata": {},
   "outputs": [],
   "source": [
    "#import the necessary modules for image processing\n",
    "import cv2"
   ]
  },
  {
   "cell_type": "code",
   "execution_count": 9,
   "metadata": {},
   "outputs": [
    {
     "name": "stdout",
     "output_type": "stream",
     "text": [
      "(240, 180, 3)\n"
     ]
    }
   ],
   "source": [
    "#carry out preprocessing operations on a single image\n",
    "img = cv2.imread(directory + folders[0] + '/' + image_list[0], 1)\n",
    "print(img.shape)"
   ]
  },
  {
   "cell_type": "code",
   "execution_count": 10,
   "metadata": {},
   "outputs": [],
   "source": [
    "#set dimensions for resizing\n",
    "dim = (100, 100) #(width, height)\n",
    "\n",
    "#resize image and grant it a new interpolation\n",
    "resized = cv2.resize(img, dim, cv2.INTER_CUBIC)"
   ]
  },
  {
   "cell_type": "code",
   "execution_count": 11,
   "metadata": {},
   "outputs": [],
   "source": [
    "#apply gaussian blur to perform first denoising operation\n",
    "blur = cv2.GaussianBlur(resized, (15, 15), 0)          "
   ]
  },
  {
   "cell_type": "code",
   "execution_count": 12,
   "metadata": {},
   "outputs": [],
   "source": [
    "#threshold the image, initially using only\n",
    "#Inverse Binary Thresholding\n",
    "ret, thresh = cv2.threshold(blur, 127, 255, cv2.THRESH_BINARY_INV)\n",
    "\n",
    "#perform segmentation operation on the image by converting it into grayscale\n",
    "#OpenCV reads colors in BGR rather than RGB format\n",
    "gray = cv2.cvtColor(resized, cv2.COLOR_BGR2GRAY)\n",
    "ret_grey, thresh_grey = cv2.threshold(gray, 127, 255, cv2.THRESH_BINARY_INV)\n",
    "#However, since color of flowers can become a major factor in prediction,\n",
    "#we will not convert image to grayscale"
   ]
  },
  {
   "cell_type": "code",
   "execution_count": 13,
   "metadata": {},
   "outputs": [],
   "source": [
    "#create a kernel for smoothing\n",
    "kernel = np.ones((15, 15), np.float32) / 225\n",
    "    \n",
    "#apply kernel to result\n",
    "smoothed = cv2.filter2D(thresh, -1, kernel)"
   ]
  },
  {
   "cell_type": "code",
   "execution_count": 14,
   "metadata": {},
   "outputs": [],
   "source": [
    "cv2.imshow('image', img)\n",
    "cv2.imshow('resized', resized)\n",
    "cv2.imshow('blur', blur)\n",
    "cv2.imshow('smoothed', smoothed)\n",
    "cv2.imshow('threshold', thresh)\n",
    "#cv2.imshow('sure_bg', sure_bg)\n",
    "#cv2.imshow('dist_transform', dist_transform)\n",
    "#cv2.imshow('sure_fg', sure_fg)\n",
    "#cv2.imshow('opening', opening)\n",
    "#cv2.imshow('marked', markers)\n",
    "#cv2.imshow('gauss', gaus)\n",
    "cv2.waitKey(0)\n",
    "cv2.destroyAllWindows()"
   ]
  },
  {
   "cell_type": "code",
   "execution_count": 15,
   "metadata": {},
   "outputs": [],
   "source": [
    "#perform segmentation operation on the image by converting it into grayscale\n",
    "#OpenCV reads colors in BGR rather than RGB format\n",
    "#gray = cv2.cvtColor(blur, cv2.COLOR_BGR2GRAY)\n",
    "#However, since color of flowers can become a major factor in prediction,\n",
    "#we will not convert image to grayscale\n",
    "\n",
    "#create a gaussian adaptive threshold with binary thresholding type\n",
    "#gaus = cv2.adaptiveThreshold(gray, 255, cv2.ADAPTIVE_THRESH_GAUSSIAN_C, cv2.THRESH_BINARY_INV, 115, 1)\n",
    "#adaptive threshold cannot be applied either to the image \n",
    "#as image must be in grayscale as cv2.imread() function takes flag = 0\n",
    "#for both grayscale and CV_8UC1\n",
    "\n",
    "#Check otsu thresholding\n",
    "#ret, otsu = cv2.threshold(blur, 125, 255, cv2.THRESH_BINARY_INV + cv2.THRESH_OTSU)\n",
    "#otsu thresholding also requires grayscale images only"
   ]
  },
  {
   "cell_type": "code",
   "execution_count": 16,
   "metadata": {},
   "outputs": [],
   "source": [
    "#opening = cv2.morphologyEx(thresh, cv2.MORPH_OPEN, kernel, iterations = 2)\n",
    "# Marker labelling\n",
    "#ret, markers = cv2.connectedComponents(smoothed)\n",
    "\n",
    "# Add one to all labels so that sure background is not 0, but 1\n",
    "#markers = markers + 1\n",
    "\n",
    "# Now, mark the region of unknown with zero\n",
    "#markers[unknown == 255] = 0\n",
    "\n",
    "#markers = cv2.watershed(thresh, markers)\n",
    "#image[markers == -1] = [255, 0, 0]\n",
    "\n",
    "# sure background area\n",
    "#sure_bg = cv2.dilate(opening, kernel, iterations=3)\n",
    "\n",
    "# Finding sure foreground area\n",
    "#dist_transform = cv2.distanceTransform(opening, cv2.DIST_L2, 5)\n",
    "#ret, sure_fg = cv2.threshold(dist_transform, 0.7 * dist_transform.max(), 255, 0)"
   ]
  },
  {
   "cell_type": "code",
   "execution_count": 17,
   "metadata": {},
   "outputs": [],
   "source": [
    "#define a common preprocessing function\n",
    "def preprocess_images(folder):\n",
    "    \n",
    "    #generate an empty list\n",
    "    images = []\n",
    "    \n",
    "    #process images in a specific folder wise order\n",
    "    for x in os.listdir(directory + folder + '/'):\n",
    "        if x.endswith(filetype[2:]):\n",
    "            \n",
    "            #read in the image unchanged\n",
    "            x = cv2.imread(directory + folder + '/' + x, -1)\n",
    "            \n",
    "            #set dimensions for resizing\n",
    "            dim = (100, 100) #(width, height)\n",
    "            \n",
    "            #resize image and grant it a new interpolation\n",
    "            resized_x = cv2.resize(x, dim, cv2.INTER_CUBIC)\n",
    "            \n",
    "            #apply gaussian blur to perform first denoising operation\n",
    "            blur_x = cv2.GaussianBlur(resized_x, (15, 15), 0)\n",
    "            \n",
    "            #perform segmentation operation on the image by converting it into grayscale\n",
    "            #OpenCV reads colors in BGR rather than RGB format\n",
    "            gray_x = cv2.cvtColor(blur_x, cv2.COLOR_BGR2GRAY)\n",
    "            \n",
    "            #threshold the image, initially using only\n",
    "            #Inverse Binary Thresholding\n",
    "            ret, thresh = cv2.threshold(blur_x, 0, 255, cv2.THRESH_BINARY_INV)\n",
    "            \n",
    "            #create a kernel for smoothing\n",
    "            kernel = np.ones((15, 15), np.float32) / 225\n",
    "    \n",
    "            #apply kernel to result\n",
    "            smoothed = cv2.filter2D(thresh, -1, kernel)\n",
    "            \n",
    "            images.append(smoothed)\n",
    "            \n",
    "    return images"
   ]
  },
  {
   "cell_type": "code",
   "execution_count": 18,
   "metadata": {},
   "outputs": [],
   "source": [
    "image_data = []\n",
    "\n",
    "#read in every image via a list comprehension\n",
    "for folder in folders:\n",
    "    image_data.append(preprocess_images(folder))\n",
    "    \n",
    "#flatten out the image data list\n",
    "image_data = sum(image_data, [])\n",
    "\n",
    "#before splitting into training and validation sets we need to randomly shuffle\n",
    "#out our data so that all categories are included in both training and validation sets\n",
    "\n",
    "#zip together both lists in data\n",
    "data = zip(image_data, label_list)\n",
    "\n",
    "#randomly shuffle data\n",
    "random.shuffle(data)\n",
    "\n",
    "#unzip the data\n",
    "image_data, label_list = zip(*data)\n",
    "\n",
    "image_data = np.array(image_data)"
   ]
  },
  {
   "cell_type": "code",
   "execution_count": 19,
   "metadata": {},
   "outputs": [],
   "source": [
    "#import necessary modules from scikit-learn\n",
    "from sklearn.model_selection import train_test_split\n",
    "from sklearn.preprocessing import LabelEncoder\n",
    "\n",
    "#import tensorflow backend\n",
    "from tensorflow.keras.models import Sequential\n",
    "from tensorflow.keras.layers import Input, Dense, Dropout, Lambda, Flatten, BatchNormalization, Convolution2D , MaxPooling2D\n",
    "from tensorflow.keras.optimizers import Adam, RMSprop\n",
    "from tensorflow.keras.callbacks import EarlyStopping\n",
    "from tensorflow.keras import backend as K\n",
    "from tensorflow.keras.preprocessing.image import ImageDataGenerator \n",
    "from tensorflow.keras.utils import to_categorical"
   ]
  },
  {
   "cell_type": "code",
   "execution_count": 20,
   "metadata": {},
   "outputs": [
    {
     "data": {
      "text/html": [
       "<div>\n",
       "<style scoped>\n",
       "    .dataframe tbody tr th:only-of-type {\n",
       "        vertical-align: middle;\n",
       "    }\n",
       "\n",
       "    .dataframe tbody tr th {\n",
       "        vertical-align: top;\n",
       "    }\n",
       "\n",
       "    .dataframe thead th {\n",
       "        text-align: right;\n",
       "    }\n",
       "</style>\n",
       "<table border=\"1\" class=\"dataframe\">\n",
       "  <thead>\n",
       "    <tr style=\"text-align: right;\">\n",
       "      <th></th>\n",
       "      <th>Flower_daisy</th>\n",
       "      <th>Flower_dandelion</th>\n",
       "      <th>Flower_rose</th>\n",
       "      <th>Flower_sunflower</th>\n",
       "      <th>Flower_tulip</th>\n",
       "    </tr>\n",
       "  </thead>\n",
       "  <tbody>\n",
       "    <tr>\n",
       "      <th>0</th>\n",
       "      <td>1</td>\n",
       "      <td>0</td>\n",
       "      <td>0</td>\n",
       "      <td>0</td>\n",
       "      <td>0</td>\n",
       "    </tr>\n",
       "    <tr>\n",
       "      <th>1</th>\n",
       "      <td>1</td>\n",
       "      <td>0</td>\n",
       "      <td>0</td>\n",
       "      <td>0</td>\n",
       "      <td>0</td>\n",
       "    </tr>\n",
       "    <tr>\n",
       "      <th>2</th>\n",
       "      <td>1</td>\n",
       "      <td>0</td>\n",
       "      <td>0</td>\n",
       "      <td>0</td>\n",
       "      <td>0</td>\n",
       "    </tr>\n",
       "    <tr>\n",
       "      <th>3</th>\n",
       "      <td>1</td>\n",
       "      <td>0</td>\n",
       "      <td>0</td>\n",
       "      <td>0</td>\n",
       "      <td>0</td>\n",
       "    </tr>\n",
       "    <tr>\n",
       "      <th>4</th>\n",
       "      <td>1</td>\n",
       "      <td>0</td>\n",
       "      <td>0</td>\n",
       "      <td>0</td>\n",
       "      <td>0</td>\n",
       "    </tr>\n",
       "  </tbody>\n",
       "</table>\n",
       "</div>"
      ],
      "text/plain": [
       "   Flower_daisy  Flower_dandelion  Flower_rose  Flower_sunflower  Flower_tulip\n",
       "0             1                 0            0                 0             0\n",
       "1             1                 0            0                 0             0\n",
       "2             1                 0            0                 0             0\n",
       "3             1                 0            0                 0             0\n",
       "4             1                 0            0                 0             0"
      ]
     },
     "execution_count": 20,
     "metadata": {},
     "output_type": "execute_result"
    }
   ],
   "source": [
    "#as flowers are categorical data and are not in any specific order,\n",
    "#we perform one hot encoding upon them\n",
    "dummies_df = pd.get_dummies(df, columns = ['Flower'])\n",
    "dummies_df.drop(['Image'], axis = 1, inplace = True)\n",
    "dummies_df.head()"
   ]
  },
  {
   "cell_type": "code",
   "execution_count": 27,
   "metadata": {},
   "outputs": [
    {
     "name": "stdout",
     "output_type": "stream",
     "text": [
      "_________________________________________________________________\n",
      "Layer (type)                 Output Shape              Param #   \n",
      "=================================================================\n",
      "conv2d_4 (Conv2D)            (None, 98, 98, 256)       7168      \n",
      "_________________________________________________________________\n",
      "max_pooling2d_4 (MaxPooling2 (None, 32, 32, 256)       0         \n",
      "_________________________________________________________________\n",
      "conv2d_5 (Conv2D)            (None, 30, 30, 128)       295040    \n",
      "_________________________________________________________________\n",
      "max_pooling2d_5 (MaxPooling2 (None, 10, 10, 128)       0         \n",
      "_________________________________________________________________\n",
      "flatten_2 (Flatten)          (None, 12800)             0         \n",
      "_________________________________________________________________\n",
      "dense_6 (Dense)              (None, 128)               1638528   \n",
      "_________________________________________________________________\n",
      "dense_7 (Dense)              (None, 64)                8256      \n",
      "_________________________________________________________________\n",
      "dense_8 (Dense)              (None, 5)                 325       \n",
      "=================================================================\n",
      "Total params: 1,949,317\n",
      "Trainable params: 1,949,317\n",
      "Non-trainable params: 0\n",
      "_________________________________________________________________\n"
     ]
    }
   ],
   "source": [
    "#create neural network\n",
    "model = Sequential()\n",
    "model.add(Convolution2D(256, (3, 3), activation = 'relu', input_shape = (100, 100, 3)))\n",
    "model.add(MaxPooling2D(pool_size = (3, 3)))\n",
    "model.add(Convolution2D(128, (3, 3), activation = 'relu'))\n",
    "model.add(MaxPooling2D(pool_size = (3, 3)))\n",
    "\n",
    "#convert 3D feature maps to 1D\n",
    "model.add(Flatten())\n",
    "model.add(Dense(128, activation = 'relu'))\n",
    "model.add(Dense(64, activation = 'relu'))\n",
    "model.add(Dense(5, activation = 'softmax'))\n",
    "\n",
    "model.compile(optimizer = 'adam', loss = 'categorical_crossentropy', metrics = ['accuracy'])\n",
    "model.summary()"
   ]
  },
  {
   "cell_type": "code",
   "execution_count": 28,
   "metadata": {},
   "outputs": [],
   "source": [
    "#split into training nd validation sets\n",
    "X_train, X_val, y_train, y_val = train_test_split(image_data, dummies_df, test_size = 0.2, random_state = 42)"
   ]
  },
  {
   "cell_type": "code",
   "execution_count": 29,
   "metadata": {},
   "outputs": [
    {
     "name": "stdout",
     "output_type": "stream",
     "text": [
      "Train on 3458 samples, validate on 865 samples\n",
      "Epoch 1/10\n",
      "3458/3458 [==============================] - 60s 17ms/step - loss: 1.9361 - acc: 0.2259 - val_loss: 1.6012 - val_acc: 0.2682\n",
      "Epoch 2/10\n",
      "3458/3458 [==============================] - 59s 17ms/step - loss: 1.6003 - acc: 0.2426 - val_loss: 1.5978 - val_acc: 0.2740\n",
      "Epoch 3/10\n",
      "3458/3458 [==============================] - 56s 16ms/step - loss: 1.5859 - acc: 0.2525 - val_loss: 1.6211 - val_acc: 0.2023\n",
      "Epoch 4/10\n",
      "3458/3458 [==============================] - 61s 18ms/step - loss: 1.5575 - acc: 0.2808 - val_loss: 1.6889 - val_acc: 0.1954\n",
      "Epoch 5/10\n",
      "3458/3458 [==============================] - 58s 17ms/step - loss: 1.4816 - acc: 0.3172 - val_loss: 1.7418 - val_acc: 0.2000\n",
      "Epoch 6/10\n",
      "3458/3458 [==============================] - 56s 16ms/step - loss: 1.4206 - acc: 0.3378 - val_loss: 1.7803 - val_acc: 0.2590\n",
      "Epoch 7/10\n",
      "3458/3458 [==============================] - 55s 16ms/step - loss: 1.3929 - acc: 0.3511 - val_loss: 1.9995 - val_acc: 0.2035\n",
      "Epoch 8/10\n",
      "3458/3458 [==============================] - 57s 17ms/step - loss: 1.3560 - acc: 0.3592 - val_loss: 2.1307 - val_acc: 0.2000\n",
      "Epoch 9/10\n",
      "3458/3458 [==============================] - 57s 17ms/step - loss: 1.3389 - acc: 0.3569 - val_loss: 2.0147 - val_acc: 0.2046\n",
      "Epoch 10/10\n",
      "3458/3458 [==============================] - 57s 17ms/step - loss: 1.3293 - acc: 0.3704 - val_loss: 2.1531 - val_acc: 0.2058\n"
     ]
    },
    {
     "data": {
      "text/plain": [
       "<tensorflow.python.keras.callbacks.History at 0x7f120d1e0e50>"
      ]
     },
     "execution_count": 29,
     "metadata": {},
     "output_type": "execute_result"
    }
   ],
   "source": [
    "model.fit(X_train, y_train, epochs = 10, validation_split = 0, validation_data = (X_val, y_val))"
   ]
  },
  {
   "cell_type": "code",
   "execution_count": null,
   "metadata": {},
   "outputs": [],
   "source": []
  }
 ],
 "metadata": {
  "kernelspec": {
   "display_name": "Python 3",
   "language": "python",
   "name": "python3"
  },
  "language_info": {
   "codemirror_mode": {
    "name": "ipython",
    "version": 2
   },
   "file_extension": ".py",
   "mimetype": "text/x-python",
   "name": "python",
   "nbconvert_exporter": "python",
   "pygments_lexer": "ipython2",
   "version": "2.7.15rc1"
  }
 },
 "nbformat": 4,
 "nbformat_minor": 2
}
