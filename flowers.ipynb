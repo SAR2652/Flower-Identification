{
 "cells": [
  {
   "cell_type": "code",
   "execution_count": 1,
   "metadata": {},
   "outputs": [],
   "source": [
    "#import the necessary modules\n",
    "import os\n",
    "import numpy as np\n",
    "import pandas as pd\n",
    "pd.set_option('display.max_rows', 5000)\n",
    "from subprocess import check_output"
   ]
  },
  {
   "cell_type": "code",
   "execution_count": 2,
   "metadata": {},
   "outputs": [],
   "source": [
    "#specify the directory and filetype\n",
    "directory = '/home/sarvesh/ML_Github/flowers/'\n",
    "filetype = '/*.jpg'\n",
    "\n",
    "#declare a directory object\n",
    "path = os.path.dirname(directory)"
   ]
  },
  {
   "cell_type": "code",
   "execution_count": 3,
   "metadata": {},
   "outputs": [
    {
     "data": {
      "text/plain": [
       "['daisy', 'dandelion', 'rose', 'sunflower', 'tulip']"
      ]
     },
     "execution_count": 3,
     "metadata": {},
     "output_type": "execute_result"
    }
   ],
   "source": [
    "#use check_output method of the subprocess package to check the folders\n",
    "folders = list(check_output([\"ls\", path]).split('\\n'))\n",
    "\n",
    "#remove any unnecessary files\n",
    "folders.remove('flowers.ipynb')\n",
    "folders.remove('')\n",
    "folders"
   ]
  },
  {
   "cell_type": "code",
   "execution_count": 4,
   "metadata": {},
   "outputs": [],
   "source": [
    "#create two empty lists, one for images and the other for flower labels \n",
    "image_list = []\n",
    "label_list = []\n",
    "for folder in folders:\n",
    "    images = [x for x in os.listdir(directory + folder + '/') if x.endswith(filetype[2:])]\n",
    "    image_list.append(images)\n",
    "    \n",
    "    #assign corresponding flower name as label for images\n",
    "    labels = [folder] * len(images)\n",
    "    label_list.append(labels)\n",
    "    \n",
    "#flatten both the lists\n",
    "image_list = sum(image_list, [])\n",
    "label_list = sum(label_list, [])"
   ]
  },
  {
   "cell_type": "code",
   "execution_count": 5,
   "metadata": {},
   "outputs": [],
   "source": [
    "#The sorting approach cannot be followed before because :\n",
    "#When images are sorted lexicographically, image name with least character is placed first\n",
    "#However when images are sorted by system, the image name with lesser number of characters goes first\n",
    "#sort labels w.r.t lexicographic order of images\n",
    "#label_list = [x for _, x in sorted(zip(image_list, label_list))]\n",
    "\n",
    "#sort the image_list finally\n",
    "#image_list = sorted(image_list)"
   ]
  },
  {
   "cell_type": "code",
   "execution_count": 6,
   "metadata": {},
   "outputs": [
    {
     "data": {
      "text/html": [
       "<div>\n",
       "<style scoped>\n",
       "    .dataframe tbody tr th:only-of-type {\n",
       "        vertical-align: middle;\n",
       "    }\n",
       "\n",
       "    .dataframe tbody tr th {\n",
       "        vertical-align: top;\n",
       "    }\n",
       "\n",
       "    .dataframe thead th {\n",
       "        text-align: right;\n",
       "    }\n",
       "</style>\n",
       "<table border=\"1\" class=\"dataframe\">\n",
       "  <thead>\n",
       "    <tr style=\"text-align: right;\">\n",
       "      <th></th>\n",
       "      <th>Image</th>\n",
       "      <th>Flower</th>\n",
       "    </tr>\n",
       "  </thead>\n",
       "  <tbody>\n",
       "    <tr>\n",
       "      <th>0</th>\n",
       "      <td>16819071290_471d99e166_m.jpg</td>\n",
       "      <td>daisy</td>\n",
       "    </tr>\n",
       "    <tr>\n",
       "      <th>1</th>\n",
       "      <td>3456403987_5bd5fa6ece_n.jpg</td>\n",
       "      <td>daisy</td>\n",
       "    </tr>\n",
       "    <tr>\n",
       "      <th>2</th>\n",
       "      <td>14350958832_29bdd3a254.jpg</td>\n",
       "      <td>daisy</td>\n",
       "    </tr>\n",
       "    <tr>\n",
       "      <th>3</th>\n",
       "      <td>8882282142_9be2524d38_m.jpg</td>\n",
       "      <td>daisy</td>\n",
       "    </tr>\n",
       "    <tr>\n",
       "      <th>4</th>\n",
       "      <td>34670512115_af22cce24d_n.jpg</td>\n",
       "      <td>daisy</td>\n",
       "    </tr>\n",
       "  </tbody>\n",
       "</table>\n",
       "</div>"
      ],
      "text/plain": [
       "                          Image Flower\n",
       "0  16819071290_471d99e166_m.jpg  daisy\n",
       "1   3456403987_5bd5fa6ece_n.jpg  daisy\n",
       "2    14350958832_29bdd3a254.jpg  daisy\n",
       "3   8882282142_9be2524d38_m.jpg  daisy\n",
       "4  34670512115_af22cce24d_n.jpg  daisy"
      ]
     },
     "execution_count": 6,
     "metadata": {},
     "output_type": "execute_result"
    }
   ],
   "source": [
    "#combine both resulting numpy arrays\n",
    "df = pd.DataFrame(data = [image_list, label_list]).T\n",
    "df.columns = ['Image', 'Flower']\n",
    "df.head()"
   ]
  },
  {
   "cell_type": "code",
   "execution_count": 7,
   "metadata": {},
   "outputs": [],
   "source": [
    "#create a csv file containing the above data\n",
    "#df.to_csv('flowers.csv')"
   ]
  },
  {
   "cell_type": "code",
   "execution_count": 8,
   "metadata": {},
   "outputs": [],
   "source": [
    "#import the necessary modules for image processing\n",
    "import cv2"
   ]
  },
  {
   "cell_type": "code",
   "execution_count": 14,
   "metadata": {},
   "outputs": [
    {
     "name": "stdout",
     "output_type": "stream",
     "text": [
      "(240, 180, 3)\n"
     ]
    }
   ],
   "source": [
    "#carry out preprocessing operations on a single image\n",
    "img = cv2.imread(directory + folders[0] + '/' + image_list[0], 1)\n",
    "print(img.shape)\n",
    "\n",
    "#set dimensions for resizing\n",
    "dim = (200, 200) #(width, height)\n",
    "\n",
    "#resize image and grant it a new interpolation\n",
    "resized = cv2.resize(img, dim, cv2.INTER_CUBIC)\n",
    "\n",
    "#apply gaussian blur to perform first denoising operation\n",
    "blur = cv2.GaussianBlur(resized, (15, 15), 0)            \n",
    "\n",
    "#perform segmentation operation on the image by converting it into grayscale\n",
    "#OpenCV reads colors in BGR rather than RGB format\n",
    "#gray = cv2.cvtColor(blur, cv2.COLOR_BGR2GRAY)\n",
    "#However, since color of flowers can become a major factor in prediction,\n",
    "#we will not convert image to grayscale\n",
    "            \n",
    "#threshold the image, initially using only\n",
    "#Inverse Binary Thresholding\n",
    "ret, thresh = cv2.threshold(blur, 127, 255, cv2.THRESH_BINARY_INV)\n",
    "\n",
    "#create a gaussian adaptive threshold with binary thresholding type\n",
    "#gaus = cv2.adaptiveThreshold(blur, 255, cv2.ADAPTIVE_THRESH_GAUSSIAN_C, cv2.THRESH_BINARY, 115, 1)\n",
    "#adaptive threshold cannot be applied either to the image \n",
    "#as image must be in grayscale as cv2.imread() function takes flag = 0\n",
    "#for both grayscale and CV_8UC1\n",
    "\n",
    "#Check otsu thresholding\n",
    "#ret, otsu = cv2.threshold(blur, 125, 255, cv2.THRESH_BINARY_INV + cv2.THRESH_OTSU)\n",
    "#otsu threwsholding also requires grayscale images only\n",
    "\n",
    "cv2.imshow('image', img)\n",
    "cv2.imshow('resized', resized)\n",
    "cv2.imshow('blur', blur)\n",
    "cv2.imshow('threshold', thresh)\n",
    "#cv2.imshow('gauss', gaus)\n",
    "cv2.waitKey(0)\n",
    "cv2.destroyAllWindows()"
   ]
  },
  {
   "cell_type": "code",
   "execution_count": 12,
   "metadata": {},
   "outputs": [],
   "source": [
    "#define a common preprocessing function\n",
    "def preprocess_images(folder):\n",
    "    \n",
    "    #process images in a specific folder wise order\n",
    "    for i in os.listdir(directory + folder + '/'):\n",
    "        if i.endsWith(filetype[2:]):\n",
    "            \n",
    "            #read in the image unchanged\n",
    "            x = cv2.imread(i, -1)\n",
    "            \n",
    "            #set dimensions for resizing\n",
    "            dim = (200, 200) #(width, height)\n",
    "            \n",
    "            #resize image and grant it a new interpolation\n",
    "            resized_x = cv2.resize(x, dim, cv2.INTER_CUBIC)\n",
    "            \n",
    "            #apply gaussian blur to perform first denoising operation\n",
    "            blur_x = cv2.GaussianBlur(resized_x, (15, 15), 0)\n",
    "            \n",
    "            #perform segmentation operation on the image by converting it into grayscale\n",
    "            #OpenCV reads colors in BGR rather than RGB format\n",
    "            gray_x = cv2.cvtColor(blur_x, cv2.COLOR_BGR2GRAY)\n",
    "            \n",
    "            #threshold the image, initially using only\n",
    "            #Inverse Binary Thresholding\n",
    "            ret, thresh = cv2.threshold(gray_x, 0, 255, cv2.THRESH_BINARY_INV)"
   ]
  },
  {
   "cell_type": "code",
   "execution_count": 13,
   "metadata": {},
   "outputs": [
    {
     "ename": "AttributeError",
     "evalue": "'str' object has no attribute 'endsWith'",
     "output_type": "error",
     "traceback": [
      "\u001b[0;31m---------------------------------------------------------------------------\u001b[0m",
      "\u001b[0;31mAttributeError\u001b[0m                            Traceback (most recent call last)",
      "\u001b[0;32m<ipython-input-13-ead798fdb889>\u001b[0m in \u001b[0;36m<module>\u001b[0;34m()\u001b[0m\n\u001b[1;32m      3\u001b[0m \u001b[0;31m#read in every image via a list comprehension\u001b[0m\u001b[0;34m\u001b[0m\u001b[0;34m\u001b[0m\u001b[0m\n\u001b[1;32m      4\u001b[0m \u001b[0;32mfor\u001b[0m \u001b[0mfolder\u001b[0m \u001b[0;32min\u001b[0m \u001b[0mfolders\u001b[0m\u001b[0;34m:\u001b[0m\u001b[0;34m\u001b[0m\u001b[0m\n\u001b[0;32m----> 5\u001b[0;31m     \u001b[0mimage_data\u001b[0m\u001b[0;34m.\u001b[0m\u001b[0mappend\u001b[0m\u001b[0;34m(\u001b[0m\u001b[0mpreprocess_images\u001b[0m\u001b[0;34m(\u001b[0m\u001b[0mfolder\u001b[0m\u001b[0;34m)\u001b[0m\u001b[0;34m)\u001b[0m\u001b[0;34m\u001b[0m\u001b[0m\n\u001b[0m\u001b[1;32m      6\u001b[0m \u001b[0;34m\u001b[0m\u001b[0m\n\u001b[1;32m      7\u001b[0m \u001b[0;31m#flatten out the image data list\u001b[0m\u001b[0;34m\u001b[0m\u001b[0;34m\u001b[0m\u001b[0m\n",
      "\u001b[0;32m<ipython-input-12-48f60f71cec8>\u001b[0m in \u001b[0;36mpreprocess_images\u001b[0;34m(folder)\u001b[0m\n\u001b[1;32m      4\u001b[0m     \u001b[0;31m#process images in a specific folder wise order\u001b[0m\u001b[0;34m\u001b[0m\u001b[0;34m\u001b[0m\u001b[0m\n\u001b[1;32m      5\u001b[0m     \u001b[0;32mfor\u001b[0m \u001b[0mi\u001b[0m \u001b[0;32min\u001b[0m \u001b[0mos\u001b[0m\u001b[0;34m.\u001b[0m\u001b[0mlistdir\u001b[0m\u001b[0;34m(\u001b[0m\u001b[0mdirectory\u001b[0m \u001b[0;34m+\u001b[0m \u001b[0mfolder\u001b[0m \u001b[0;34m+\u001b[0m \u001b[0;34m'/'\u001b[0m\u001b[0;34m)\u001b[0m\u001b[0;34m:\u001b[0m\u001b[0;34m\u001b[0m\u001b[0m\n\u001b[0;32m----> 6\u001b[0;31m         \u001b[0;32mif\u001b[0m \u001b[0mi\u001b[0m\u001b[0;34m.\u001b[0m\u001b[0mendsWith\u001b[0m\u001b[0;34m(\u001b[0m\u001b[0mfiletype\u001b[0m\u001b[0;34m[\u001b[0m\u001b[0;36m2\u001b[0m\u001b[0;34m:\u001b[0m\u001b[0;34m]\u001b[0m\u001b[0;34m)\u001b[0m\u001b[0;34m:\u001b[0m\u001b[0;34m\u001b[0m\u001b[0m\n\u001b[0m\u001b[1;32m      7\u001b[0m \u001b[0;34m\u001b[0m\u001b[0m\n\u001b[1;32m      8\u001b[0m             \u001b[0;31m#read in the image unchanged\u001b[0m\u001b[0;34m\u001b[0m\u001b[0;34m\u001b[0m\u001b[0m\n",
      "\u001b[0;31mAttributeError\u001b[0m: 'str' object has no attribute 'endsWith'"
     ]
    }
   ],
   "source": [
    "image_data = []\n",
    "\n",
    "#read in every image via a list comprehension\n",
    "for folder in folders:\n",
    "    image_data.append(preprocess_images(folder))\n",
    "    \n",
    "#flatten out the image data list\n",
    "image_data = sum(image_data, [])"
   ]
  }
 ],
 "metadata": {
  "kernelspec": {
   "display_name": "Python 3",
   "language": "python",
   "name": "python3"
  },
  "language_info": {
   "codemirror_mode": {
    "name": "ipython",
    "version": 2
   },
   "file_extension": ".py",
   "mimetype": "text/x-python",
   "name": "python",
   "nbconvert_exporter": "python",
   "pygments_lexer": "ipython2",
   "version": "2.7.15rc1"
  }
 },
 "nbformat": 4,
 "nbformat_minor": 2
}
