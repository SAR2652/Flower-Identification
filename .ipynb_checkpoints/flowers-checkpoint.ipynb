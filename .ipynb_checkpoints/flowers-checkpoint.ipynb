{
 "cells": [
  {
   "cell_type": "code",
   "execution_count": 1,
   "metadata": {},
   "outputs": [],
   "source": [
    "#import the necessary modules\n",
    "import os\n",
    "import numpy as np\n",
    "import pandas as pd\n",
    "from subprocess import check_output"
   ]
  },
  {
   "cell_type": "code",
   "execution_count": 2,
   "metadata": {},
   "outputs": [],
   "source": [
    "#specify the directory and filetype\n",
    "directory = '/home/sarvesh/ML_Github/flowers/'\n",
    "filetype = '/*.jpg'\n",
    "\n",
    "#declare a directory object\n",
    "path = os.path.dirname(directory)"
   ]
  },
  {
   "cell_type": "code",
   "execution_count": 3,
   "metadata": {},
   "outputs": [],
   "source": [
    "#use check_output method of the subprocess package to check the folders\n",
    "folders = list(check_output([\"ls\", path]).split('\\n'))\n",
    "\n",
    "#remove any unnecessary files\n",
    "folders.remove('flowers.ipynb')\n",
    "folders.remove('')"
   ]
  },
  {
   "cell_type": "code",
   "execution_count": 4,
   "metadata": {},
   "outputs": [],
   "source": [
    "#create two empty lists, one for images and the other for flower labels \n",
    "image_list = []\n",
    "label_list = []\n",
    "for folder in folders:\n",
    "    images = [x for x in os.listdir(directory + folder + '/') if x.endswith(filetype[2:])]\n",
    "    image_list.append(images)\n",
    "    \n",
    "    #assign corresponding flower name as label for images\n",
    "    labels = [folder] * len(images)\n",
    "    label_list.append(labels)\n",
    "    \n",
    "#flatten both the lists\n",
    "image_list = sum(image_list, [])\n",
    "label_list = sum(label_list, [])"
   ]
  },
  {
   "cell_type": "code",
   "execution_count": 5,
   "metadata": {},
   "outputs": [],
   "source": [
    "#The sorting approach cannot be followed before because :\n",
    "#When images are sorted lexicographically, image name with least character is placed first\n",
    "#However when images are sorted by system, the image name with lesser number of characters goes first\n",
    "#sort labels w.r.t lexicographic order of images\n",
    "#label_list = [x for _, x in sorted(zip(image_list, label_list))]\n",
    "\n",
    "#sort the image_list finally\n",
    "#image_list = sorted(image_list)"
   ]
  },
  {
   "cell_type": "code",
   "execution_count": 6,
   "metadata": {},
   "outputs": [
    {
     "data": {
      "text/html": [
       "<div>\n",
       "<style scoped>\n",
       "    .dataframe tbody tr th:only-of-type {\n",
       "        vertical-align: middle;\n",
       "    }\n",
       "\n",
       "    .dataframe tbody tr th {\n",
       "        vertical-align: top;\n",
       "    }\n",
       "\n",
       "    .dataframe thead th {\n",
       "        text-align: right;\n",
       "    }\n",
       "</style>\n",
       "<table border=\"1\" class=\"dataframe\">\n",
       "  <thead>\n",
       "    <tr style=\"text-align: right;\">\n",
       "      <th></th>\n",
       "      <th>Image</th>\n",
       "      <th>Flower</th>\n",
       "    </tr>\n",
       "  </thead>\n",
       "  <tbody>\n",
       "    <tr>\n",
       "      <th>4318</th>\n",
       "      <td>405035580_94b793e71d.jpg</td>\n",
       "      <td>tulip</td>\n",
       "    </tr>\n",
       "    <tr>\n",
       "      <th>4319</th>\n",
       "      <td>3991742794_edebc6c8a0_n.jpg</td>\n",
       "      <td>tulip</td>\n",
       "    </tr>\n",
       "    <tr>\n",
       "      <th>4320</th>\n",
       "      <td>13911047024_8966d70560_n.jpg</td>\n",
       "      <td>tulip</td>\n",
       "    </tr>\n",
       "    <tr>\n",
       "      <th>4321</th>\n",
       "      <td>142218310_d06005030a_n.jpg</td>\n",
       "      <td>tulip</td>\n",
       "    </tr>\n",
       "    <tr>\n",
       "      <th>4322</th>\n",
       "      <td>7145978709_2d1596f462.jpg</td>\n",
       "      <td>tulip</td>\n",
       "    </tr>\n",
       "  </tbody>\n",
       "</table>\n",
       "</div>"
      ],
      "text/plain": [
       "                             Image Flower\n",
       "4318      405035580_94b793e71d.jpg  tulip\n",
       "4319   3991742794_edebc6c8a0_n.jpg  tulip\n",
       "4320  13911047024_8966d70560_n.jpg  tulip\n",
       "4321    142218310_d06005030a_n.jpg  tulip\n",
       "4322     7145978709_2d1596f462.jpg  tulip"
      ]
     },
     "execution_count": 6,
     "metadata": {},
     "output_type": "execute_result"
    }
   ],
   "source": [
    "#combine both resulting numpy arrays\n",
    "df = pd.DataFrame(data = [image_list, label_list]).T\n",
    "df.columns = ['Image', 'Flower']\n",
    "df.tail()"
   ]
  },
  {
   "cell_type": "code",
   "execution_count": null,
   "metadata": {},
   "outputs": [],
   "source": [
    "#create a csv file containing the above data\n",
    "#df.to_csv('flowers.csv')"
   ]
  },
  {
   "cell_type": "code",
   "execution_count": 7,
   "metadata": {},
   "outputs": [],
   "source": [
    "#import the necessary modules for image processing\n",
    "import cv2"
   ]
  },
  {
   "cell_type": "code",
   "execution_count": null,
   "metadata": {},
   "outputs": [],
   "source": [
    "#carry out preprocessing operations on a single image"
   ]
  },
  {
   "cell_type": "code",
   "execution_count": null,
   "metadata": {},
   "outputs": [],
   "source": [
    "#define a common preprocessing function\n",
    "def preprocess_image(folder):\n",
    "    \n",
    "    #process images in a specific folder wise order\n",
    "    for x in os.listdir(directory + folder + '/'):\n",
    "        if x.endsWith(filetype[2:]):\n",
    "            \n",
    "            #read in the image unchanged\n",
    "            x = cv2.imread(i, -1)\n",
    "            \n",
    "            #set dimensions for resizing\n",
    "            dim = (200, 200) #(width, height)\n",
    "            \n",
    "            #resize image and grant it a new interpolation\n",
    "            resized_x = cv2.resize(x, dim, cv2.INTER_CUBIC)\n",
    "            \n",
    "            #apply gaussian blur to perform first denoising operation\n",
    "            blur_x = cv2.GaussianBlur(resized_x, (15, 15), 0)\n",
    "            \n",
    "            #perform segmentation operation on the image by converting it into grayscale\n",
    "            #OpenCV reads colors in BGR rather than RGB format\n",
    "            gray_x = cv2.cvtColor(blur_x, cv2.COLOR_BGR2GRAY)\n",
    "            \n",
    "            #threshold the image, initially using only\n",
    "            #Inverse Binary Thresholding\n",
    "            ret, thresh = cv2.threshold(gray_x, 0, 255, cv2.THRESH_BINARY_INV)"
   ]
  },
  {
   "cell_type": "code",
   "execution_count": null,
   "metadata": {},
   "outputs": [],
   "source": [
    "image_data = []\n",
    "\n",
    "#read in every image via a list comprehension\n",
    "for folder in folders:\n",
    "    image_data.append(preprocess_image(folder))\n",
    "    \n",
    "#flatten out the image data list\n",
    "image_data = sum(image_data, [])"
   ]
  }
 ],
 "metadata": {
  "kernelspec": {
   "display_name": "Python 3",
   "language": "python",
   "name": "python3"
  },
  "language_info": {
   "codemirror_mode": {
    "name": "ipython",
    "version": 2
   },
   "file_extension": ".py",
   "mimetype": "text/x-python",
   "name": "python",
   "nbconvert_exporter": "python",
   "pygments_lexer": "ipython2",
   "version": "2.7.15rc1"
  }
 },
 "nbformat": 4,
 "nbformat_minor": 2
}
